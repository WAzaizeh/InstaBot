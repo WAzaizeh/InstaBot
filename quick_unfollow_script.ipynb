{
 "cells": [
  {
   "cell_type": "code",
   "execution_count": 4,
   "metadata": {
    "scrolled": true
   },
   "outputs": [
    {
     "name": "stderr",
     "output_type": "stream",
     "text": [
      "/Users/wesamazaizeh/miniconda3/lib/python3.6/site-packages/ipykernel_launcher.py:10: DeprecationWarning: use options instead of chrome_options\n",
      "  # Remove the CWD from sys.path while we load stuff.\n"
     ]
    },
    {
     "name": "stdout",
     "output_type": "stream",
     "text": [
      "Checking for users to unfollow\n"
     ]
    },
    {
     "name": "stderr",
     "output_type": "stream",
     "text": [
      "Traceback (most recent call last):\n",
      "  File \"/Users/wesamazaizeh/Desktop/Projects/InstaBot/py-insta-bot-with-unfollows-master/AccountAgent.py\", line 55, in unfollow_people\n",
      "    if webdriver.find_element_by_xpath(unfollow_xpath).text == \"Following\":\n",
      "  File \"/Users/wesamazaizeh/miniconda3/lib/python3.6/site-packages/selenium/webdriver/remote/webdriver.py\", line 394, in find_element_by_xpath\n",
      "    return self.find_element(by=By.XPATH, value=xpath)\n",
      "  File \"/Users/wesamazaizeh/miniconda3/lib/python3.6/site-packages/selenium/webdriver/remote/webdriver.py\", line 978, in find_element\n",
      "    'value': value})['value']\n",
      "  File \"/Users/wesamazaizeh/miniconda3/lib/python3.6/site-packages/selenium/webdriver/remote/webdriver.py\", line 321, in execute\n",
      "    self.error_handler.check_response(response)\n",
      "  File \"/Users/wesamazaizeh/miniconda3/lib/python3.6/site-packages/selenium/webdriver/remote/errorhandler.py\", line 242, in check_response\n",
      "    raise exception_class(message, screen, stacktrace)\n",
      "selenium.common.exceptions.NoSuchElementException: Message: no such element: Unable to locate element: {\"method\":\"xpath\",\"selector\":\"//*[@id=\"react-root\"]/section/main/div/header/section/div[1]/div[1]/span/span[1]/button\"}\n",
      "  (Session info: chrome=80.0.3987.163)\n",
      "\n"
     ]
    }
   ],
   "source": [
    "from selenium import webdriver\n",
    "import BotEngine\n",
    "\n",
    "#change selenium settings to stay open when session is terminated\n",
    "from selenium.webdriver import ChromeOptions, Chrome\n",
    "opts = ChromeOptions()\n",
    "opts.add_experimental_option(\"detach\", True)\n",
    "\n",
    "chromedriver_path = '/Users/wesamazaizeh/Desktop/Projects/InstaBot/chromedriver'\n",
    "webdriver = webdriver.Chrome(executable_path=chromedriver_path, chrome_options=opts)\n",
    "\n",
    "BotEngine.init(webdriver)\n",
    "BotEngine.update(webdriver, False)"
   ]
  },
  {
   "cell_type": "code",
   "execution_count": null,
   "metadata": {},
   "outputs": [],
   "source": []
  }
 ],
 "metadata": {
  "kernelspec": {
   "display_name": "Python 3",
   "language": "python",
   "name": "python3"
  },
  "language_info": {
   "codemirror_mode": {
    "name": "ipython",
    "version": 3
   },
   "file_extension": ".py",
   "mimetype": "text/x-python",
   "name": "python",
   "nbconvert_exporter": "python",
   "pygments_lexer": "ipython3",
   "version": "3.6.9"
  }
 },
 "nbformat": 4,
 "nbformat_minor": 2
}
